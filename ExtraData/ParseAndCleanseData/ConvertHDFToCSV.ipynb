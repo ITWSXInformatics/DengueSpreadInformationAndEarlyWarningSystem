{
 "cells": [
  {
   "cell_type": "code",
   "execution_count": 1,
   "metadata": {},
   "outputs": [],
   "source": [
    "import pandas as pd\n",
    "from pyhdf import SD"
   ]
  },
  {
   "cell_type": "code",
   "execution_count": 2,
   "metadata": {},
   "outputs": [],
   "source": [
    "def convert_hdf_to_csv(hdf_file_path, output_csv):\n",
    "    try:\n",
    "        hdf = SD.SD(hdf_file_path)\n",
    "    except:\n",
    "        print(\"Unable to open the file: \", hdf_file_path)\n",
    "\n",
    "    \"\"\"\n",
    "    Flatten and remove duplicates from the Latitudes and\n",
    "    Logititude datasets\n",
    "    \"\"\"\n",
    "    lat_dataset = hdf.select('Latitude')\n",
    "    latitudes = lat_dataset[:].flatten()\n",
    "\n",
    "    long_dataset = hdf.select('Longitude')\n",
    "    longitudes = long_dataset[:].flatten()\n",
    "\n",
    "    surface_temp_dataset = hdf.select('SurfSkinTemp_Forecast_A')\n",
    "    surface_temps = surface_temp_dataset[:].flatten()\n",
    "\n",
    "    pandas_dict = {}\n",
    "\n",
    "    pandas_dict[\"Latitudes\"] = latitudes\n",
    "    pandas_dict[\"Longitudes\"] = longitudes\n",
    "    pandas_dict[\"Temperature\"] = surface_temps\n",
    "\n",
    "    data_frame = pd.DataFrame(pandas_dict, columns=[\"Latitudes\", \"Longitudes\", \"Temperature\"])\n",
    "    data_frame.to_csv(output_csv)            "
   ]
  },
  {
   "cell_type": "code",
   "execution_count": null,
   "metadata": {},
   "outputs": [],
   "source": []
  }
 ],
 "metadata": {
  "kernelspec": {
   "display_name": "Python 3",
   "language": "python",
   "name": "python3"
  },
  "language_info": {
   "codemirror_mode": {
    "name": "ipython",
    "version": 3
   },
   "file_extension": ".py",
   "mimetype": "text/x-python",
   "name": "python",
   "nbconvert_exporter": "python",
   "pygments_lexer": "ipython3",
   "version": "3.7.6"
  }
 },
 "nbformat": 4,
 "nbformat_minor": 4
}

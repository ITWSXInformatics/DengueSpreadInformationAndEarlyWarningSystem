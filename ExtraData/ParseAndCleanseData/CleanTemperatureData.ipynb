{
 "cells": [
  {
   "cell_type": "code",
   "execution_count": 1,
   "metadata": {},
   "outputs": [],
   "source": [
    "import pandas as pd\n",
    "import descartes\n",
    "import geopandas as gpd\n",
    "from geopandas.tools import sjoin\n",
    "from shapely.geometry import Point, Polygon, shape"
   ]
  },
  {
   "cell_type": "code",
   "execution_count": 2,
   "metadata": {},
   "outputs": [],
   "source": [
    "def __read_files(input_csv, input_shape_file):\n",
    "    dataset = pd.read_csv(self.csv_file_path)\n",
    "    country_shape = gpd.read_file(self.country_file_path)\n",
    "    return dataset,country_shape"
   ]
  },
  {
   "cell_type": "code",
   "execution_count": 3,
   "metadata": {},
   "outputs": [],
   "source": [
    "def clean_and_save_data(input_csv, input_shape_file, output_csv):\n",
    "    \n",
    "    dataset, country = __read_files(input_csv, input_shape_file);\n",
    "    \n",
    "    latitudes = dataset.get(\"Latitudes\")\n",
    "    longitudes = dataset.get(\"Longitudes\")\n",
    "    geometry = [Point(xy) for xy in zip(longitudes, latitudes)]\n",
    "    points = gpd.GeoDataFrame(dataset, crs = {'init': 'epsg:4326'}, geometry = geometry)\n",
    "\n",
    "    final_df = sjoin(points, country, how = 'inner', op = 'intersects')\n",
    "    final_df = final_df[[\"Latitudes\", \"Longitudes\", \"Temperature\", \"geometry\"]].reset_index(drop = True)\n",
    "    final_df.to_csv(output_csv, index = False)\n",
    "    "
   ]
  },
  {
   "cell_type": "code",
   "execution_count": null,
   "metadata": {},
   "outputs": [],
   "source": []
  }
 ],
 "metadata": {
  "kernelspec": {
   "display_name": "Python 3",
   "language": "python",
   "name": "python3"
  },
  "language_info": {
   "codemirror_mode": {
    "name": "ipython",
    "version": 3
   },
   "file_extension": ".py",
   "mimetype": "text/x-python",
   "name": "python",
   "nbconvert_exporter": "python",
   "pygments_lexer": "ipython3",
   "version": "3.7.6"
  }
 },
 "nbformat": 4,
 "nbformat_minor": 4
}

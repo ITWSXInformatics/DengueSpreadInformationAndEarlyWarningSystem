{
 "cells": [
  {
   "cell_type": "code",
   "execution_count": 8,
   "metadata": {},
   "outputs": [],
   "source": [
    "from geopy.geocoders import Nominatim\n",
    "from geopy.exc import GeocoderTimedOut\n",
    "import pandas as pd\n",
    "import time"
   ]
  },
  {
   "cell_type": "code",
   "execution_count": 9,
   "metadata": {},
   "outputs": [],
   "source": [
    "geolocator = Nominatim(user_agent=\"CorrelateTemperatureToProvidence\")"
   ]
  },
  {
   "cell_type": "code",
   "execution_count": 10,
   "metadata": {},
   "outputs": [],
   "source": [
    "def geocode_reverse(location):\n",
    "    try:\n",
    "        # Add a throttle to account for geopy's timeout and limiter\n",
    "        time.sleep(5)\n",
    "        return geolocator.reverse(location)\n",
    "    except GeocoderTimedOut:\n",
    "        # Add a throttle to account for geopy's timeout and limiter\n",
    "        time.sleep(5)\n",
    "        return geocode_reverse(location)"
   ]
  },
  {
   "cell_type": "code",
   "execution_count": 11,
   "metadata": {},
   "outputs": [],
   "source": [
    "def find_avg_temp_per_providence(dataset, output_path):\n",
    "        providence_avg_temp = {}\n",
    "        \n",
    "        latitudes = dataset.get(\"Latitudes\")\n",
    "        longitudes = dataset.get(\"Longitudes\")\n",
    "        temperatures = dataset.get(\"Temperature\")\n",
    "        \n",
    "        for lat, long, temp in zip(latitudes, longitudes, temperatures):\n",
    "            location = geocode_reverse(str(lat) + \",\" + str(long))\n",
    "            providence = location.raw[\"address\"][\"state\"]\n",
    "            \n",
    "            if providence in providence_avg_temp:\n",
    "                providence_avg_temp[providence].append(temp)\n",
    "            else:\n",
    "                providence_avg_temp[providence] = [temp]\n",
    "        \n",
    "        for key in providence_avg_temp.keys():\n",
    "            temp_list = providence_avg_temp[key]\n",
    "            \n",
    "            total_temp_per_providence = 0\n",
    "            avg_temp = 0\n",
    "            for temp in temp_list:\n",
    "                total_temp_per_providence += temp\n",
    "            \n",
    "            avg_temp = total_temp_per_providence/len(temp_list)\n",
    "            providence_avg_temp[key] = avg_temp\n",
    "        \n",
    "        finalized_providence_temps = {}\n",
    "        \n",
    "        #Iterate in for loop to gurantee ordering\n",
    "        finalized_providence_temps[\"Providences\"] = []\n",
    "        finalized_providence_temps[\"Temperatures\"] = []\n",
    "        \n",
    "        for providence in providence_avg_temp:\n",
    "            finalized_providence_temps[\"Providences\"].append(providence)\n",
    "            finalized_providence_temps[\"Temperatures\"].append(providence_avg_temp[providence])\n",
    "        \n",
    "        data_frame = pd.DataFrame(finalized_providence_temps, columns=[\"Providences\", \"Temperatures\"])\n",
    "        data_frame.to_csv(output_path)       "
   ]
  },
  {
   "cell_type": "code",
   "execution_count": null,
   "metadata": {},
   "outputs": [],
   "source": []
  }
 ],
 "metadata": {
  "kernelspec": {
   "display_name": "Python 3",
   "language": "python",
   "name": "python3"
  },
  "language_info": {
   "codemirror_mode": {
    "name": "ipython",
    "version": 3
   },
   "file_extension": ".py",
   "mimetype": "text/x-python",
   "name": "python",
   "nbconvert_exporter": "python",
   "pygments_lexer": "ipython3",
   "version": "3.7.6"
  }
 },
 "nbformat": 4,
 "nbformat_minor": 4
}

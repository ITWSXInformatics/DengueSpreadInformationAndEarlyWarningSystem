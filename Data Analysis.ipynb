{
 "cells": [
  {
   "cell_type": "markdown",
   "metadata": {},
   "source": [
    "# Data Analysis\n",
    "\n",
    "In this notebook, I'll try to get a better understanding of the data so I can find relationships in the various factors and Dengue."
   ]
  },
  {
   "cell_type": "markdown",
   "metadata": {},
   "source": [
    "## Load libraries\n",
    "\n",
    "I'll load in the libraries to read data and draw visualizations."
   ]
  },
  {
   "cell_type": "code",
   "execution_count": 1,
   "metadata": {},
   "outputs": [],
   "source": [
    "import pandas as pd\n",
    "import matplotlib.pyplot as plt\n",
    "import seaborn as sns\n",
    "%matplotlib inline"
   ]
  },
  {
   "cell_type": "markdown",
   "metadata": {},
   "source": [
    "## Load data\n",
    "\n",
    "I'll start by loading in the data and looking at the first few rows."
   ]
  },
  {
   "cell_type": "code",
   "execution_count": 2,
   "metadata": {},
   "outputs": [
    {
     "data": {
      "text/html": [
       "<div>\n",
       "<style scoped>\n",
       "    .dataframe tbody tr th:only-of-type {\n",
       "        vertical-align: middle;\n",
       "    }\n",
       "\n",
       "    .dataframe tbody tr th {\n",
       "        vertical-align: top;\n",
       "    }\n",
       "\n",
       "    .dataframe thead th {\n",
       "        text-align: right;\n",
       "    }\n",
       "</style>\n",
       "<table border=\"1\" class=\"dataframe\">\n",
       "  <thead>\n",
       "    <tr style=\"text-align: right;\">\n",
       "      <th></th>\n",
       "      <th>date</th>\n",
       "      <th>population</th>\n",
       "      <th>TMAX</th>\n",
       "      <th>TMIN</th>\n",
       "      <th>TAVG</th>\n",
       "      <th>TDTR</th>\n",
       "      <th>PRCP(-1)</th>\n",
       "      <th>PRCP(-2)</th>\n",
       "      <th>PRCP</th>\n",
       "      <th>total_cases</th>\n",
       "    </tr>\n",
       "  </thead>\n",
       "  <tbody>\n",
       "    <tr>\n",
       "      <th>0</th>\n",
       "      <td>2000-07</td>\n",
       "      <td>386666</td>\n",
       "      <td>31.458333</td>\n",
       "      <td>20.325000</td>\n",
       "      <td>25.916667</td>\n",
       "      <td>11.133333</td>\n",
       "      <td>85.8</td>\n",
       "      <td>309.3</td>\n",
       "      <td>97.3</td>\n",
       "      <td>0</td>\n",
       "    </tr>\n",
       "    <tr>\n",
       "      <th>1</th>\n",
       "      <td>2000-08</td>\n",
       "      <td>386666</td>\n",
       "      <td>32.864706</td>\n",
       "      <td>21.170588</td>\n",
       "      <td>27.017647</td>\n",
       "      <td>11.694118</td>\n",
       "      <td>97.3</td>\n",
       "      <td>85.8</td>\n",
       "      <td>225.2</td>\n",
       "      <td>0</td>\n",
       "    </tr>\n",
       "    <tr>\n",
       "      <th>2</th>\n",
       "      <td>2000-09</td>\n",
       "      <td>386666</td>\n",
       "      <td>33.300000</td>\n",
       "      <td>20.925000</td>\n",
       "      <td>27.108333</td>\n",
       "      <td>12.375000</td>\n",
       "      <td>225.2</td>\n",
       "      <td>97.3</td>\n",
       "      <td>247.1</td>\n",
       "      <td>1</td>\n",
       "    </tr>\n",
       "    <tr>\n",
       "      <th>3</th>\n",
       "      <td>2000-10</td>\n",
       "      <td>386666</td>\n",
       "      <td>33.163636</td>\n",
       "      <td>21.709091</td>\n",
       "      <td>27.436364</td>\n",
       "      <td>11.454545</td>\n",
       "      <td>247.1</td>\n",
       "      <td>225.2</td>\n",
       "      <td>81.2</td>\n",
       "      <td>2</td>\n",
       "    </tr>\n",
       "    <tr>\n",
       "      <th>4</th>\n",
       "      <td>2000-11</td>\n",
       "      <td>386666</td>\n",
       "      <td>33.400000</td>\n",
       "      <td>21.550000</td>\n",
       "      <td>27.475000</td>\n",
       "      <td>11.850000</td>\n",
       "      <td>81.2</td>\n",
       "      <td>247.1</td>\n",
       "      <td>25.4</td>\n",
       "      <td>0</td>\n",
       "    </tr>\n",
       "  </tbody>\n",
       "</table>\n",
       "</div>"
      ],
      "text/plain": [
       "      date  population       TMAX       TMIN       TAVG       TDTR  PRCP(-1)  \\\n",
       "0  2000-07      386666  31.458333  20.325000  25.916667  11.133333      85.8   \n",
       "1  2000-08      386666  32.864706  21.170588  27.017647  11.694118      97.3   \n",
       "2  2000-09      386666  33.300000  20.925000  27.108333  12.375000     225.2   \n",
       "3  2000-10      386666  33.163636  21.709091  27.436364  11.454545     247.1   \n",
       "4  2000-11      386666  33.400000  21.550000  27.475000  11.850000      81.2   \n",
       "\n",
       "   PRCP(-2)   PRCP  total_cases  \n",
       "0     309.3   97.3            0  \n",
       "1      85.8  225.2            0  \n",
       "2      97.3  247.1            1  \n",
       "3     225.2   81.2            2  \n",
       "4     247.1   25.4            0  "
      ]
     },
     "execution_count": 2,
     "metadata": {},
     "output_type": "execute_result"
    }
   ],
   "source": [
    "dataset = pd.read_csv(\"data/iquitos/combined_data.csv\")\n",
    "dataset.head()"
   ]
  },
  {
   "cell_type": "markdown",
   "metadata": {},
   "source": [
    "## Dataframe Analysis\n",
    "\n",
    "In this section, I'll explore dataset level factors and adjust things if needed."
   ]
  },
  {
   "cell_type": "code",
   "execution_count": 3,
   "metadata": {},
   "outputs": [
    {
     "name": "stdout",
     "output_type": "stream",
     "text": [
      "<class 'pandas.core.frame.DataFrame'>\n",
      "RangeIndex: 156 entries, 0 to 155\n",
      "Data columns (total 10 columns):\n",
      " #   Column       Non-Null Count  Dtype  \n",
      "---  ------       --------------  -----  \n",
      " 0   date         156 non-null    object \n",
      " 1   population   156 non-null    int64  \n",
      " 2   TMAX         154 non-null    float64\n",
      " 3   TMIN         154 non-null    float64\n",
      " 4   TAVG         154 non-null    float64\n",
      " 5   TDTR         154 non-null    float64\n",
      " 6   PRCP(-1)     154 non-null    float64\n",
      " 7   PRCP(-2)     154 non-null    float64\n",
      " 8   PRCP         154 non-null    float64\n",
      " 9   total_cases  156 non-null    int64  \n",
      "dtypes: float64(7), int64(2), object(1)\n",
      "memory usage: 12.3+ KB\n"
     ]
    }
   ],
   "source": [
    "dataset.info()"
   ]
  },
  {
   "cell_type": "markdown",
   "metadata": {},
   "source": [
    "The temperate columns have a couple of missing data points and thus, I'd simply replace the value with the average value of the previous and next months."
   ]
  },
  {
   "cell_type": "code",
   "execution_count": 11,
   "metadata": {},
   "outputs": [
    {
     "data": {
      "text/html": [
       "<div>\n",
       "<style scoped>\n",
       "    .dataframe tbody tr th:only-of-type {\n",
       "        vertical-align: middle;\n",
       "    }\n",
       "\n",
       "    .dataframe tbody tr th {\n",
       "        vertical-align: top;\n",
       "    }\n",
       "\n",
       "    .dataframe thead th {\n",
       "        text-align: right;\n",
       "    }\n",
       "</style>\n",
       "<table border=\"1\" class=\"dataframe\">\n",
       "  <thead>\n",
       "    <tr style=\"text-align: right;\">\n",
       "      <th></th>\n",
       "      <th>date</th>\n",
       "      <th>population</th>\n",
       "      <th>TMAX</th>\n",
       "      <th>TMIN</th>\n",
       "      <th>TAVG</th>\n",
       "      <th>TDTR</th>\n",
       "      <th>PRCP(-1)</th>\n",
       "      <th>PRCP(-2)</th>\n",
       "      <th>PRCP</th>\n",
       "      <th>total_cases</th>\n",
       "    </tr>\n",
       "  </thead>\n",
       "  <tbody>\n",
       "    <tr>\n",
       "      <th>95</th>\n",
       "      <td>2008-06</td>\n",
       "      <td>436185</td>\n",
       "      <td>NaN</td>\n",
       "      <td>NaN</td>\n",
       "      <td>NaN</td>\n",
       "      <td>NaN</td>\n",
       "      <td>NaN</td>\n",
       "      <td>NaN</td>\n",
       "      <td>NaN</td>\n",
       "      <td>2</td>\n",
       "    </tr>\n",
       "    <tr>\n",
       "      <th>131</th>\n",
       "      <td>2011-06</td>\n",
       "      <td>452757</td>\n",
       "      <td>NaN</td>\n",
       "      <td>NaN</td>\n",
       "      <td>NaN</td>\n",
       "      <td>NaN</td>\n",
       "      <td>NaN</td>\n",
       "      <td>NaN</td>\n",
       "      <td>NaN</td>\n",
       "      <td>14</td>\n",
       "    </tr>\n",
       "  </tbody>\n",
       "</table>\n",
       "</div>"
      ],
      "text/plain": [
       "        date  population  TMAX  TMIN  TAVG  TDTR  PRCP(-1)  PRCP(-2)  PRCP  \\\n",
       "95   2008-06      436185   NaN   NaN   NaN   NaN       NaN       NaN   NaN   \n",
       "131  2011-06      452757   NaN   NaN   NaN   NaN       NaN       NaN   NaN   \n",
       "\n",
       "     total_cases  \n",
       "95             2  \n",
       "131           14  "
      ]
     },
     "execution_count": 11,
     "metadata": {},
     "output_type": "execute_result"
    }
   ],
   "source": [
    "dataset[dataset.isnull().any(axis=1)]"
   ]
  },
  {
   "cell_type": "markdown",
   "metadata": {},
   "source": [
    "However, after looking at the two rows, we have no data what so ever and thus it is much better if I drop these two rows completely."
   ]
  },
  {
   "cell_type": "code",
   "execution_count": 14,
   "metadata": {},
   "outputs": [
    {
     "name": "stdout",
     "output_type": "stream",
     "text": [
      "<class 'pandas.core.frame.DataFrame'>\n",
      "RangeIndex: 154 entries, 0 to 153\n",
      "Data columns (total 11 columns):\n",
      " #   Column       Non-Null Count  Dtype  \n",
      "---  ------       --------------  -----  \n",
      " 0   index        154 non-null    int64  \n",
      " 1   date         154 non-null    object \n",
      " 2   population   154 non-null    int64  \n",
      " 3   TMAX         154 non-null    float64\n",
      " 4   TMIN         154 non-null    float64\n",
      " 5   TAVG         154 non-null    float64\n",
      " 6   TDTR         154 non-null    float64\n",
      " 7   PRCP(-1)     154 non-null    float64\n",
      " 8   PRCP(-2)     154 non-null    float64\n",
      " 9   PRCP         154 non-null    float64\n",
      " 10  total_cases  154 non-null    int64  \n",
      "dtypes: float64(7), int64(3), object(1)\n",
      "memory usage: 13.4+ KB\n"
     ]
    }
   ],
   "source": [
    "dataset = dataset.dropna(how = 'any').reset_index()\n",
    "dataset.info()"
   ]
  },
  {
   "cell_type": "markdown",
   "metadata": {},
   "source": [
    "Perfect! There are no more null values. We can start with our exploratory data analysis."
   ]
  },
  {
   "cell_type": "markdown",
   "metadata": {},
   "source": [
    "## Exploratory Data Analysis,\n",
    "\n",
    "With a complete dataframe, let's try to do analysis on the columns and see the effect."
   ]
  },
  {
   "cell_type": "code",
   "execution_count": 20,
   "metadata": {},
   "outputs": [],
   "source": [
    "dataset_selected_cols = dataset.drop([\"index\", \"date\"], axis = 1)"
   ]
  },
  {
   "cell_type": "code",
   "execution_count": 27,
   "metadata": {},
   "outputs": [
    {
     "data": {
      "text/plain": [
       "<matplotlib.axes._subplots.AxesSubplot at 0x11e779130>"
      ]
     },
     "execution_count": 27,
     "metadata": {},
     "output_type": "execute_result"
    },
    {
     "data": {
      "image/png": "[encoded data removed]",
      "text/plain": [
       "<Figure size 576x432 with 2 Axes>"
      ]
     },
     "metadata": {
      "needs_background": "light"
     },
     "output_type": "display_data"
    }
   ],
   "source": [
    "plt.figure(figsize = (8, 6))\n",
    "sns.heatmap(dataset_selected_cols.corr(), annot = True)"
   ]
  },
  {
   "cell_type": "markdown",
   "metadata": {},
   "source": [
    "If we observe the last column which shows the correlation of each factor with the total cases of Dengue, we observe that the correlations are not very strong. The most correlated variable is the **minimum temperature** and **average temperature**. The correlation is not very strong between the precipitation values except that the **last month's precipitation** has some effect."
   ]
  },
  {
   "cell_type": "code",
   "execution_count": null,
   "metadata": {},
   "outputs": [],
   "source": [
    "sns.boxplot(dataset['p'])"
   ]
  }
 ],
 "metadata": {
  "kernelspec": {
   "display_name": "Python 3",
   "language": "python",
   "name": "python3"
  },
  "language_info": {
   "codemirror_mode": {
    "name": "ipython",
    "version": 3
   },
   "file_extension": ".py",
   "mimetype": "text/x-python",
   "name": "python",
   "nbconvert_exporter": "python",
   "pygments_lexer": "ipython3",
   "version": "3.8.2"
  }
 },
 "nbformat": 4,
 "nbformat_minor": 4
}
